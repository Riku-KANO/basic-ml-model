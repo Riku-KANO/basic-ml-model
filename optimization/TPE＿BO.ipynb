{
  "nbformat": 4,
  "nbformat_minor": 0,
  "metadata": {
    "colab": {
      "provenance": [],
      "toc_visible": true,
      "authorship_tag": "ABX9TyPR20OMWevzTv1TM2EY60yt",
      "include_colab_link": true
    },
    "kernelspec": {
      "name": "python3",
      "display_name": "Python 3"
    },
    "language_info": {
      "name": "python"
    }
  },
  "cells": [
    {
      "cell_type": "markdown",
      "metadata": {
        "id": "view-in-github",
        "colab_type": "text"
      },
      "source": [
        "<a href=\"https://colab.research.google.com/github/Riku-KANO/basic-ml-model/blob/main/optimization/TPE%EF%BC%BFBO.ipynb\" target=\"_parent\"><img src=\"https://colab.research.google.com/assets/colab-badge.svg\" alt=\"Open In Colab\"/></a>"
      ]
    },
    {
      "cell_type": "markdown",
      "source": [
        "# Tree-structured Parzen Estimatorによるベイズ最適化\n",
        "under construction"
      ],
      "metadata": {
        "id": "TOEpfGv4UHOS"
      }
    },
    {
      "cell_type": "markdown",
      "source": [
        "## Tree structured Parzen Estimator (TPE) とは"
      ],
      "metadata": {
        "id": "Jy0qcY1pvQe3"
      }
    },
    {
      "cell_type": "markdown",
      "source": [
        "## Tree structured Parzen Estimator (TPE) の原理\n",
        "　まず初めに、問題設定は以下のように設定する。\n",
        "$$\n",
        "\\newcommand{\\argmin}{\\mathop{\\rm arg~min}\\limits}\n",
        "x^{+}=\\argmin_{x∈ℋ} f(x)\\\\ \n",
        "$$\n",
        "\n",
        "$ℋ$は入力$x$の空間、$f(x)$はブラックボックス関数、$x^{+}$はブラックボックスが出力する最小値の時の入力$x^{+}$である。我々の目標はブラックボックスが最小値を示す時の入力$x^{+}$を求めることを念頭に置いて議論を進めていく。  \n",
        "<br>\n",
        "ベイズ最適化において、TPEはガウス過程回帰と同様にEIやPIなどといった獲得関数を計算する。獲得関数を計算する際、ガウス過程回帰は$p(y|x)$をベースとして以下の数式が最大になる$x$を次の探索候補点$x^*$とする。  \n",
        "<br>\n",
        "$$\\text{EI}_{y^*}(x)=𝔼[\\max(y^{*}-y, 0)]=∫^{∞}_{-∞}\\max(y^{*}-y, 0)p_M(y|x)dy$$\n",
        "<br>\n",
        "ここで、$y^*$は閾値(threshold)であり、多くの場合では今まで得られた中での$y$の最大値が用いられる。また、$p_M(y|x)$はガウス過程モデルが推定する尤度である。\n",
        "<br>\n",
        "　一方でTPEでは$p(x|y)$や$p(y)$を用いて獲得関数を計算する(実際には$p(y)$をモデリングすることはないので実質的には$p(x|y)$のみを考えていくことになる)。TPEでは$p(x|y)$は以下のように定義される。  \n",
        "<br>\n",
        "\\begin{equation}\n",
        "  p(x|y)=\n",
        "  \\begin{cases}\n",
        "    l(x) & \\text{if} \\ y\\lt y^{*}, \\\\\n",
        "    g(x) & \\text{if} \\ y\\ge y^{*}, \\\\\n",
        "  \\end{cases}\n",
        "\\end{equation}\n",
        "<br>\n",
        "$l(x)$と$g(x)$は（カーネル）密度であり、$y^{*}$は閾値(threshold)である。$y^{*}$を基準としてそれを超える、またはそれを超えないデータの密度を計算(推定)している。そのデータの推定密度を用いて事後確率を計算している。$y^{*}$の選択方法に関しては$\\gamma=p(y<y^{*})$となるような$y^{*}$を選択する。$\\gamma$は0から1の間の値をとる実数であり、$\\gamma=0.5$とした場合はデータが半々になるような$y^{*}$を選択することを指す。つまり$\\gamma$は分位値(quantile)である。  \n",
        "　以上を踏まえると獲得関数は以下のように記述される。  \n",
        "<br>\n",
        "$$\\text{EI}_{y^{*}}(x)=\\int^{y^{*}}_{-∞}(y^{*}-y)p(y|x)dy=\\int^{y^{*}}_{-∞}(y^{*}-y)\\frac{p(x|y)p(y)}{p(x)}dy$$\n",
        "<br>\n",
        "ここで、  \n",
        "<br>\n",
        "$$p(x)=\\int_{ℝ}p(x|y)p(y)dy=\\gamma l(x)+(1-\\gamma)g(x)$$\n",
        "<br>\n",
        "であり、\n",
        "<br>\n",
        "$$\\int^{y^{*}}_{-∞}(y^{*}-y)p(x|y)p(y)dy=l(x)\\int^{y^{*}}_{-∞}(y^{*}-y)p(y)dy=\\gamma y^{*}l(x)-l(x) \\int^{y^{*}}_{-∞}p(y)dy$$\n",
        "<br>\n",
        "であるので、これらの２式を上式の獲得関数の式に代入すると、以下の式が得られる。  \n",
        "<br>\n",
        "$$\\text{EI}_{y^{*}}(x)=\\frac{\\gamma y^{*}l(x)-l(x)\\int^{y^{*}}_{-∞}p(y)dy}{\\gamma l(x)+(1-\\gamma)g(x)}∝\\left(\\gamma + \\frac{g(x)}{l(x)}(1-\\gamma)\\right)^{-1}$$\n",
        "<br>\n",
        "この式から、獲得関数が$g(x)/l(x)$のみに依存しているということがわかる。"
      ],
      "metadata": {
        "id": "P9yzpxu0Uyxg"
      }
    },
    {
      "cell_type": "markdown",
      "source": [
        "## カーネル密度推定"
      ],
      "metadata": {
        "id": "H0bMAIphvdzn"
      }
    },
    {
      "cell_type": "code",
      "execution_count": null,
      "metadata": {
        "id": "bIdkYSnWUEAc"
      },
      "outputs": [],
      "source": []
    },
    {
      "cell_type": "markdown",
      "source": [
        "## 最適化"
      ],
      "metadata": {
        "id": "g64aUbJqx-6h"
      }
    },
    {
      "cell_type": "code",
      "source": [],
      "metadata": {
        "id": "1_8n1g9CyGJv"
      },
      "execution_count": null,
      "outputs": []
    },
    {
      "cell_type": "markdown",
      "source": [
        "## Reference\n",
        "[1] https://proceedings.neurips.cc/paper/2011/file/86e8f7ab32cfd12577bc2619bc635690-Paper.pdf\n",
        "[2] "
      ],
      "metadata": {
        "id": "Ci-LEunHVdWN"
      }
    },
    {
      "cell_type": "code",
      "source": [],
      "metadata": {
        "id": "crq_dgXzVkyP"
      },
      "execution_count": null,
      "outputs": []
    }
  ]
}